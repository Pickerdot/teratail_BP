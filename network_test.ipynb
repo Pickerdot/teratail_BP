{
 "cells": [
  {
   "cell_type": "code",
   "execution_count": 1,
   "metadata": {},
   "outputs": [],
   "source": [
    "from bpclass import  BPneuron,Loss\n",
    "import matplotlib.pyplot as plt\n",
    "import numpy as np\n",
    "from random import random\n",
    "import matplotlib.pyplot as plt\n",
    "from test_network import test_network"
   ]
  },
  {
   "cell_type": "code",
   "execution_count": 2,
   "metadata": {},
   "outputs": [],
   "source": [
    "#orデータの生成\n",
    "test_data = np.array([[1,1],[1,0],[0,1],[0,0]])\n",
    "target_data = np.array([[1],[0],[0],[0]])"
   ]
  },
  {
   "cell_type": "code",
   "execution_count": 3,
   "metadata": {},
   "outputs": [],
   "source": [
    "W01_size=2\n",
    "W12_size=2\n",
    "I=2\n",
    "H=12\n",
    "O=1\n",
    "Txt_name = str(W01_size)+str(W12_size)+str(I)+str(H)+str(O)"
   ]
  },
  {
   "cell_type": "code",
   "execution_count": 4,
   "metadata": {},
   "outputs": [],
   "source": [
    "three_layer_network = test_network(I,H,O,W01_size,W12_size)"
   ]
  },
  {
   "cell_type": "code",
   "execution_count": 5,
   "metadata": {},
   "outputs": [
    {
     "name": "stdout",
     "output_type": "stream",
     "text": [
      "loss: [[-0.01633822]] epoch: 45500\n",
      "_________\n",
      "b: [-5.6047113]\n",
      "_________\n",
      "loss: [[2.06154671e-15]] epoch: 46000\n",
      "_________\n",
      "b: [-5.62603496]\n",
      "_________\n",
      "loss: [[0.00914241]] epoch: 46500\n",
      "_________\n",
      "b: [-5.64102918]\n",
      "_________\n",
      "loss: [[1.71198254e-15]] epoch: 47000\n",
      "_________\n",
      "b: [-5.65443812]\n",
      "_________\n",
      "loss: [[0.0084218]] epoch: 47500\n",
      "_________\n",
      "b: [-5.66523199]\n",
      "_________\n",
      "loss: [[-0.0152793]] epoch: 48000\n",
      "_________\n",
      "b: [-5.67828096]\n",
      "_________\n",
      "loss: [[0.00764522]] epoch: 48500\n",
      "_________\n",
      "b: [-5.69326486]\n",
      "_________\n",
      "loss: [[0.00785664]] epoch: 49000\n",
      "_________\n",
      "b: [-5.7077113]\n",
      "_________\n",
      "loss: [[0.00780329]] epoch: 49500\n",
      "_________\n",
      "b: [-5.71254355]\n",
      "_________\n"
     ]
    }
   ],
   "source": [
    "loss_memo = three_layer_network.traning(test_data,target_data,50000)"
   ]
  },
  {
   "cell_type": "code",
   "execution_count": 6,
   "metadata": {
    "scrolled": true
   },
   "outputs": [
    {
     "data": {
      "text/plain": [
       "[<matplotlib.lines.Line2D at 0x1add250d6d8>]"
      ]
     },
     "execution_count": 6,
     "metadata": {},
     "output_type": "execute_result"
    },
    {
     "data": {
      "image/png": "[encoded data removed]",
      "text/plain": [
       "<Figure size 432x288 with 1 Axes>"
      ]
     },
     "metadata": {},
     "output_type": "display_data"
    }
   ],
   "source": [
    "title = \"Loss\\nW01:\"+str(W01_size)+\"W12:\"+str(W12_size)+\"netowork\"+str(I)+str(H)+str(O)\n",
    "plt.title(title)\n",
    "plt.xlabel(\"epoch\")\n",
    "plt.ylabel(\"loss\")\n",
    "plt.plot(loss_memo)"
   ]
  },
  {
   "cell_type": "code",
   "execution_count": null,
   "metadata": {},
   "outputs": [],
   "source": []
  }
 ],
 "metadata": {
  "kernelspec": {
   "display_name": "Python 3",
   "language": "python",
   "name": "python3"
  },
  "language_info": {
   "codemirror_mode": {
    "name": "ipython",
    "version": 3
   },
   "file_extension": ".py",
   "mimetype": "text/x-python",
   "name": "python",
   "nbconvert_exporter": "python",
   "pygments_lexer": "ipython3",
   "version": "3.7.0"
  }
 },
 "nbformat": 4,
 "nbformat_minor": 2
}
